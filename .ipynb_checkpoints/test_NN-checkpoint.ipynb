{
 "cells": [
  {
   "cell_type": "markdown",
   "metadata": {},
   "source": [
    "# Neural Network From Scratch"
   ]
  },
  {
   "cell_type": "code",
   "execution_count": 1,
   "metadata": {},
   "outputs": [],
   "source": [
    "import pandas as pd\n",
    "import numpy as np\n",
    "import matplotlib.pyplot as plt\n",
    "import h5py\n",
    "import time\n",
    "import random\n",
    "from MyDenceNN import MyDenceNN\n",
    "\n",
    "#random.seed(5)\n",
    "\n",
    "%matplotlib inline\n",
    "plt.rcParams['figure.figsize'] = (5.0, 4.0) # set default size of plots\n",
    "plt.rcParams['image.interpolation'] = 'nearest'\n",
    "plt.rcParams['image.cmap'] = 'gray'\n",
    "\n",
    "%load_ext autoreload\n",
    "%autoreload 2"
   ]
  },
  {
   "cell_type": "markdown",
   "metadata": {},
   "source": [
    "## Load Data"
   ]
  },
  {
   "cell_type": "code",
   "execution_count": 2,
   "metadata": {},
   "outputs": [],
   "source": [
    "def load_data():\n",
    "    train_dataset = h5py.File('datasets/train_catvnoncat.h5', \"r\")\n",
    "    train_set_x_orig = np.array(train_dataset[\"train_set_x\"][:]) # your train set features\n",
    "    train_set_y_orig = np.array(train_dataset[\"train_set_y\"][:]) # your train set labels\n",
    "\n",
    "    test_dataset = h5py.File('datasets/test_catvnoncat.h5', \"r\")\n",
    "    test_set_x_orig = np.array(test_dataset[\"test_set_x\"][:]) # your test set features\n",
    "    test_set_y_orig = np.array(test_dataset[\"test_set_y\"][:]) # your test set labels\n",
    "\n",
    "    classes = np.array(test_dataset[\"list_classes\"][:]) # the list of classes\n",
    "    \n",
    "    train_set_y_orig = train_set_y_orig.reshape((1, train_set_y_orig.shape[0]))\n",
    "    test_set_y_orig = test_set_y_orig.reshape((1, test_set_y_orig.shape[0]))\n",
    "    \n",
    "    return train_set_x_orig, train_set_y_orig, test_set_x_orig, test_set_y_orig, classes"
   ]
  },
  {
   "cell_type": "code",
   "execution_count": 3,
   "metadata": {},
   "outputs": [
    {
     "name": "stdout",
     "output_type": "stream",
     "text": [
      "y = 0. It's a non-cat picture.\n"
     ]
    },
    {
     "data": {
      "image/png": "[encoded data removed]",
      "text/plain": [
       "<Figure size 360x288 with 1 Axes>"
      ]
     },
     "metadata": {
      "needs_background": "light"
     },
     "output_type": "display_data"
    }
   ],
   "source": [
    "train_x_orig, train_y, test_x_orig, test_y, classes = load_data()\n",
    "\n",
    "# Example of a picture\n",
    "index = 10\n",
    "plt.imshow(train_x_orig[index])\n",
    "print (\"y = \" + str(train_y[0,index]) + \". It's a \" + classes[train_y[0,index]].decode(\"utf-8\") +  \" picture.\")"
   ]
  },
  {
   "cell_type": "code",
   "execution_count": 4,
   "metadata": {},
   "outputs": [
    {
     "name": "stdout",
     "output_type": "stream",
     "text": [
      "Number of training examples: 209\n",
      "Number of testing examples: 50\n",
      "Each image is of size: (64, 64, 3)\n",
      "train_x_orig shape: (209, 64, 64, 3)\n",
      "train_y shape: (1, 209)\n",
      "test_x_orig shape: (50, 64, 64, 3)\n",
      "test_y shape: (1, 50)\n"
     ]
    }
   ],
   "source": [
    "# Explore your dataset \n",
    "m_train = train_x_orig.shape[0]\n",
    "num_px = train_x_orig.shape[1]\n",
    "m_test = test_x_orig.shape[0]\n",
    "\n",
    "print (\"Number of training examples: \" + str(m_train))\n",
    "print (\"Number of testing examples: \" + str(m_test))\n",
    "print (\"Each image is of size: (\" + str(num_px) + \", \" + str(num_px) + \", 3)\")\n",
    "print (\"train_x_orig shape: \" + str(train_x_orig.shape))\n",
    "print (\"train_y shape: \" + str(train_y.shape))\n",
    "print (\"test_x_orig shape: \" + str(test_x_orig.shape))\n",
    "print (\"test_y shape: \" + str(test_y.shape))"
   ]
  },
  {
   "cell_type": "markdown",
   "metadata": {},
   "source": [
    "# Initialise Network Parameters"
   ]
  },
  {
   "cell_type": "code",
   "execution_count": 5,
   "metadata": {},
   "outputs": [
    {
     "name": "stdout",
     "output_type": "stream",
     "text": [
      "train_x's shape: (12288, 209)\n",
      "test_x's shape: (12288, 50)\n"
     ]
    }
   ],
   "source": [
    "# Reshape the training and test examples \n",
    "train_x_flatten = train_x_orig.reshape(train_x_orig.shape[0], -1).T   # The \"-1\" makes reshape flatten the remaining dimensions\n",
    "test_x_flatten = test_x_orig.reshape(test_x_orig.shape[0], -1).T\n",
    "\n",
    "# Standardize data to have feature values between 0 and 1.\n",
    "train_x = train_x_flatten/255.\n",
    "test_x = test_x_flatten/255.\n",
    "\n",
    "print (\"train_x's shape: \" + str(train_x.shape))\n",
    "print (\"test_x's shape: \" + str(test_x.shape))\n"
   ]
  },
  {
   "cell_type": "code",
   "execution_count": 14,
   "metadata": {},
   "outputs": [
    {
     "name": "stdout",
     "output_type": "stream",
     "text": [
      "#################\n",
      "Units per layer\n",
      "----------------\n",
      "n[1] = 64\n",
      "----------------\n",
      "n[2] = 8\n",
      "----------------\n",
      "----------------\n",
      "\n",
      "\n",
      "######################################\n",
      "######################################\n",
      "\t  Optimising Model\n",
      "######################################\n",
      "######################################\n",
      "\n",
      "\n",
      "Epoch 100: Cost = 0.6443681341092089\n",
      "--------------------------\n",
      "Epoch 200: Cost = 0.6436923140776559\n",
      "--------------------------\n",
      "Epoch 300: Cost = 0.6397435532502784\n",
      "--------------------------\n",
      "Epoch 400: Cost = 0.555756187955344\n",
      "--------------------------\n",
      "Epoch 500: Cost = 0.47468362266850683\n",
      "--------------------------\n",
      "Epoch 600: Cost = 0.6300019282464487\n",
      "--------------------------\n",
      "Epoch 700: Cost = 0.4390162731933416\n",
      "--------------------------\n",
      "Epoch 800: Cost = 0.4319758106061051\n",
      "--------------------------\n",
      "Epoch 900: Cost = 0.3989737669193697\n",
      "--------------------------\n",
      "Epoch 1000: Cost = 0.6143845854658488\n",
      "--------------------------\n",
      "Epoch 1100: Cost = 0.26674903400544053\n",
      "--------------------------\n",
      "Epoch 1200: Cost = 0.27294434341617957\n",
      "--------------------------\n",
      "Epoch 1300: Cost = 0.3608958117678681\n",
      "--------------------------\n",
      "Epoch 1400: Cost = 0.5825758245343714\n",
      "--------------------------\n",
      "Epoch 1500: Cost = 0.5924125146860386\n",
      "--------------------------\n",
      "Epoch 1600: Cost = 0.027756235487633202\n",
      "--------------------------\n",
      "Epoch 1700: Cost = 0.01071476948740589\n",
      "--------------------------\n",
      "Epoch 1800: Cost = 0.008719435820232617\n",
      "--------------------------\n",
      "Epoch 1900: Cost = 0.00790487713493955\n",
      "--------------------------\n",
      "Epoch 2000: Cost = 0.004382050028948323\n",
      "--------------------------\n"
     ]
    }
   ],
   "source": [
    "new_dence = MyDenceNN()\n",
    "\n",
    "hidden_units = {\n",
    "    \"1\" : 64,\n",
    "    \"2\" : 8\n",
    "}\n",
    "\n",
    "activations = {\n",
    "    \"1\" : \"relu\",\n",
    "    \"2\" : \"relu\",\n",
    "    \"3\" : \"sigmoid\"    \n",
    "}\n",
    "\n",
    "cost_fun = \"logistic_regression\"\n",
    "alpha = 0.1\n",
    "epochs = 2000\n",
    "display=False\n",
    "print_cost = True\n",
    "L2_reg = False\n",
    "lambd = 0.01\n",
    "keep_prob = 1\n",
    "normalise = False\n",
    "weighted_init = False\n",
    "\n",
    "new_dence.solve(train_x, train_y, hidden_units, activations, \n",
    "                cost_fun, alpha, epochs, display, print_cost, \n",
    "                L2_reg, lambd, keep_prob, normalise, weighted_init)"
   ]
  },
  {
   "cell_type": "code",
   "execution_count": 8,
   "metadata": {},
   "outputs": [
    {
     "data": {
      "image/png": "[encoded data removed]",
      "text/plain": [
       "<Figure size 360x288 with 1 Axes>"
      ]
     },
     "metadata": {
      "needs_background": "light"
     },
     "output_type": "display_data"
    }
   ],
   "source": [
    "costs = []\n",
    "\n",
    "for cost in new_dence.costs:\n",
    "    J = np.squeeze(new_dence.costs[cost])\n",
    "    costs.append(J)\n",
    "    \n",
    "plt.plot(costs)\n",
    "plt.ylabel('cost')\n",
    "plt.xlabel('iterations')\n",
    "plt.title(\"Learning rate =\" + str(alpha))\n",
    "plt.show()"
   ]
  },
  {
   "cell_type": "code",
   "execution_count": null,
   "metadata": {},
   "outputs": [],
   "source": []
  },
  {
   "cell_type": "code",
   "execution_count": null,
   "metadata": {},
   "outputs": [],
   "source": []
  }
 ],
 "metadata": {
  "kernelspec": {
   "display_name": "Python 3",
   "language": "python",
   "name": "python3"
  },
  "language_info": {
   "codemirror_mode": {
    "name": "ipython",
    "version": 3
   },
   "file_extension": ".py",
   "mimetype": "text/x-python",
   "name": "python",
   "nbconvert_exporter": "python",
   "pygments_lexer": "ipython3",
   "version": "3.8.2"
  }
 },
 "nbformat": 4,
 "nbformat_minor": 4
}
